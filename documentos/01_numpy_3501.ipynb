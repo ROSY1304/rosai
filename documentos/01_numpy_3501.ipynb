{
 "cells": [
  {
   "cell_type": "markdown",
   "id": "ef05d3fe-19b6-4aa0-97d5-7fa43b71b118",
   "metadata": {},
   "source": [
    "# INTRODUCCION A NUMPY"
   ]
  },
  {
   "cell_type": "markdown",
   "id": "def91139-3754-4d50-9280-efa3551014e0",
   "metadata": {},
   "source": [
    "[numpy](https://numpy.org/doc/stable/) es una libreria para la computacion con Python.\n",
    "* Proporciona Arrays N-Dimensionales.\n",
    "* Implementa funciones matematicas sofisticadas.\n",
    "* Proporciona herramientas para integrar C/C++ y Fortran.\n",
    "* Proporciona mecanismos para facilitar la realizacion de las tareas relacionadas con el algebra lineal o numeros aleatoriios."
   ]
  },
  {
   "cell_type": "markdown",
   "id": "c46ec49a-c612-40ab-a89b-d938b9290292",
   "metadata": {},
   "source": [
    "## Imports"
   ]
  },
  {
   "cell_type": "code",
   "execution_count": 4,
   "id": "587350a2-3324-4427-8d4d-f74eb69da9da",
   "metadata": {},
   "outputs": [],
   "source": [
    "import numpy as np"
   ]
  },
  {
   "cell_type": "markdown",
   "id": "b79b2cc7-3f03-446b-ae85-0737aa27fa1f",
   "metadata": {},
   "source": [
    "## Arrays \n",
    "Un **array** es una estructura de datos que consisten en una coleccion de elementos (valores o variables) cada uno identificado por al menos un indice o clave. Un array se almacena de modo que la posicion de cada elemento se pueda calcular apartir de su indice, mediante la formula matematica. El tipo mas simple de un array es un array lineal tambien llamado unidimensional."
   ]
  },
  {
   "cell_type": "markdown",
   "id": "51399969-d1ad-4c7c-b777-81914d31ed1d",
   "metadata": {},
   "source": [
    "En Numpy:\n",
    "* Cada dimension se denomina **axis**.\n",
    "* El numero de dimensiones se denomina **rank**.\n",
    "* La lista de dimensiones con su correspondiente longitud se denomina **shape**.\n",
    "* El numero total de elementos (multiplicacion de la longitud de las dimensiones) se denomina **size**."
   ]
  },
  {
   "cell_type": "code",
   "execution_count": 7,
   "id": "0eb0150e-8433-4e1e-88fd-5edced8634e8",
   "metadata": {},
   "outputs": [
    {
     "data": {
      "text/plain": [
       "array([[0., 0., 0., 0.],\n",
       "       [0., 0., 0., 0.]])"
      ]
     },
     "execution_count": 7,
     "metadata": {},
     "output_type": "execute_result"
    }
   ],
   "source": [
    "# Array cuyos valores son todos 0\n",
    "a = np.zeros((2, 4))\n",
    "a "
   ]
  },
  {
   "cell_type": "markdown",
   "id": "68543cab-c0ae-468d-a4d6-71b94db73b97",
   "metadata": {},
   "source": [
    "**a** es un array.\n",
    "* Con dos **axis**, el primero de longitud 2 y el segundo de longitud 4.\n",
    "* Con un **rank** igual a 2.\n",
    "* Con un **shape** igual (2, 4).\n",
    "* Con **size** igual a 8."
   ]
  },
  {
   "cell_type": "code",
   "execution_count": 9,
   "id": "48816714-2645-4d23-90b5-b32508926a6a",
   "metadata": {},
   "outputs": [
    {
     "data": {
      "text/plain": [
       "(2, 4)"
      ]
     },
     "execution_count": 9,
     "metadata": {},
     "output_type": "execute_result"
    }
   ],
   "source": [
    "a.shape"
   ]
  },
  {
   "cell_type": "code",
   "execution_count": 10,
   "id": "19ce0df1-6464-4bc5-bb83-956e7cd35f4c",
   "metadata": {},
   "outputs": [
    {
     "data": {
      "text/plain": [
       "2"
      ]
     },
     "execution_count": 10,
     "metadata": {},
     "output_type": "execute_result"
    }
   ],
   "source": [
    "a.ndim"
   ]
  },
  {
   "cell_type": "code",
   "execution_count": 11,
   "id": "926d0e3c-2d1e-45cf-bf45-c59ae42e8425",
   "metadata": {},
   "outputs": [
    {
     "data": {
      "text/plain": [
       "8"
      ]
     },
     "execution_count": 11,
     "metadata": {},
     "output_type": "execute_result"
    }
   ],
   "source": [
    "a.size"
   ]
  },
  {
   "cell_type": "markdown",
   "id": "17962325-2458-41bd-a3b4-5b18aaf46817",
   "metadata": {},
   "source": [
    "## Creacion de arrays"
   ]
  },
  {
   "cell_type": "code",
   "execution_count": 13,
   "id": "8406bf6a-52ad-42d4-b99b-98cadd958ab0",
   "metadata": {},
   "outputs": [
    {
     "data": {
      "text/plain": [
       "array([[[0., 0., 0., 0.],\n",
       "        [0., 0., 0., 0.],\n",
       "        [0., 0., 0., 0.]],\n",
       "\n",
       "       [[0., 0., 0., 0.],\n",
       "        [0., 0., 0., 0.],\n",
       "        [0., 0., 0., 0.]]])"
      ]
     },
     "execution_count": 13,
     "metadata": {},
     "output_type": "execute_result"
    }
   ],
   "source": [
    "# Array cuyos valores son todos 0\n",
    "np.zeros((2, 3, 4))"
   ]
  },
  {
   "cell_type": "code",
   "execution_count": 14,
   "id": "b60b1b1f-31e2-4393-b1d2-4359a14060e4",
   "metadata": {},
   "outputs": [
    {
     "data": {
      "text/plain": [
       "array([[[1., 1., 1., 1.],\n",
       "        [1., 1., 1., 1.],\n",
       "        [1., 1., 1., 1.]],\n",
       "\n",
       "       [[1., 1., 1., 1.],\n",
       "        [1., 1., 1., 1.],\n",
       "        [1., 1., 1., 1.]]])"
      ]
     },
     "execution_count": 14,
     "metadata": {},
     "output_type": "execute_result"
    }
   ],
   "source": [
    "#Array cuyos valores son todos 1\n",
    "np.ones((2, 3, 4))"
   ]
  },
  {
   "cell_type": "code",
   "execution_count": 15,
   "id": "bb8d3a1a-a995-4cab-88a7-a37f892cc5ba",
   "metadata": {},
   "outputs": [
    {
     "data": {
      "text/plain": [
       "array([[[8, 8, 8, 8],\n",
       "        [8, 8, 8, 8],\n",
       "        [8, 8, 8, 8]],\n",
       "\n",
       "       [[8, 8, 8, 8],\n",
       "        [8, 8, 8, 8],\n",
       "        [8, 8, 8, 8]]])"
      ]
     },
     "execution_count": 15,
     "metadata": {},
     "output_type": "execute_result"
    }
   ],
   "source": [
    "# Array cuyos valores son todos 8.\n",
    "np.full((2, 3, 4), 8)"
   ]
  },
  {
   "cell_type": "code",
   "execution_count": 25,
   "id": "d2a0c5f1-a44e-4e2e-94ed-8411989c0cb8",
   "metadata": {},
   "outputs": [
    {
     "data": {
      "text/plain": [
       "array([[[ 1.18413257e-316,  0.00000000e+000,  1.22705698e-289,\n",
       "          8.41033108e-145,  1.74278416e+041,  8.70115455e-198,\n",
       "          6.48179787e-135, -1.44847095e-307,  1.59308882e-294],\n",
       "        [ 9.54162083e-304,  1.39437667e-222,  2.14639688e+065,\n",
       "          2.93164992e-125,  3.09123479e-212,  1.04530041e-303,\n",
       "          9.54125590e-304,  6.65819564e+019, -7.91819793e+232],\n",
       "        [ 6.85047325e-285,  6.84554651e-285,  6.76102389e-285,\n",
       "          1.24718877e-265,  9.54164169e-304,  4.66288032e-193,\n",
       "          8.98037907e-227,  7.07053426e-111, -2.90656417e+078]],\n",
       "\n",
       "       [[-9.50437687e-308, -2.49854483e+077, -8.36901995e-308,\n",
       "          1.59347102e-294,  6.83733744e-285,  9.54166950e-304,\n",
       "          9.54127676e-304,  9.54131153e-304,  9.54128372e-304],\n",
       "        [ 6.25298481e-299,  1.04527505e-303,  9.54126981e-304,\n",
       "          9.54164168e-304,  4.76827232e-048,  4.08228463e+031,\n",
       "          1.58839213e-227,  1.70013737e-285, -2.49909255e+077],\n",
       "        [-2.32715317e+078, -9.35159489e+077, -2.67995899e+078,\n",
       "         -1.39606454e+078, -1.00628183e-307,  4.96992403e+055,\n",
       "          1.68173792e-285, -1.73882710e-309,  1.69522822e-285]]])"
      ]
     },
     "execution_count": 25,
     "metadata": {},
     "output_type": "execute_result"
    }
   ],
   "source": [
    "# El resultado de np.empty no es predecible\n",
    "# Se inicializa con los valores del array con lo que haya en memoria en ese momento\n",
    "np.empty((2, 3, 9))"
   ]
  },
  {
   "cell_type": "code",
   "execution_count": 27,
   "id": "deb68de9-fce9-4b8d-b6de-0b2a560b083a",
   "metadata": {},
   "outputs": [
    {
     "data": {
      "text/plain": [
       "array([[1, 2, 3],\n",
       "       [4, 5, 6]])"
      ]
     },
     "execution_count": 27,
     "metadata": {},
     "output_type": "execute_result"
    }
   ],
   "source": [
    "# Inicializar el array utilizando un array de Python\n",
    "b = np.array([[1, 2, 3], [4, 5, 6]])\n",
    "b"
   ]
  },
  {
   "cell_type": "code",
   "execution_count": 29,
   "id": "c076f75f-e540-4899-b509-0ec7c444b02e",
   "metadata": {},
   "outputs": [
    {
     "data": {
      "text/plain": [
       "(2, 3)"
      ]
     },
     "execution_count": 29,
     "metadata": {},
     "output_type": "execute_result"
    }
   ],
   "source": [
    "b.shape"
   ]
  },
  {
   "cell_type": "code",
   "execution_count": 31,
   "id": "aabc79d1-cafb-4a95-9561-e41bdc25fbb7",
   "metadata": {},
   "outputs": [
    {
     "name": "stdout",
     "output_type": "stream",
     "text": [
      "[0.         0.66666667 1.33333333 2.         2.66666667 3.33333333\n",
      " 4.         4.66666667 5.33333333 6.        ]\n"
     ]
    }
   ],
   "source": [
    "#Crear un array utilizando una funcion basada en rangos\n",
    "# (minimo, maximo, numero de elementos del array)\n",
    "print(np.linspace(0, 6, 10))"
   ]
  },
  {
   "cell_type": "code",
   "execution_count": 35,
   "id": "aeabf06f-9f0d-41ac-9901-6062775ba83d",
   "metadata": {},
   "outputs": [
    {
     "data": {
      "text/plain": [
       "array([[[0.58110562, 0.82522834, 0.27976478, 0.77122164],\n",
       "        [0.06286817, 0.9325399 , 0.63329448, 0.15030075],\n",
       "        [0.68581914, 0.2689772 , 0.09884992, 0.53415212]],\n",
       "\n",
       "       [[0.03129757, 0.52955109, 0.6199353 , 0.92009244],\n",
       "        [0.85819843, 0.95065089, 0.38949367, 0.40464547],\n",
       "        [0.8053926 , 0.56594086, 0.82768685, 0.12913758]],\n",
       "\n",
       "       [[0.84967582, 0.72924263, 0.64741383, 0.27130795],\n",
       "        [0.7734079 , 0.24921887, 0.29435595, 0.84026526],\n",
       "        [0.67391383, 0.72291848, 0.88406667, 0.85586264]]])"
      ]
     },
     "execution_count": 35,
     "metadata": {},
     "output_type": "execute_result"
    }
   ],
   "source": [
    "# Inicializar el array con valores aleatorios\n",
    "np.random.rand(3, 3, 4)"
   ]
  },
  {
   "cell_type": "code",
   "execution_count": 37,
   "id": "b1f0bccc-5955-4a04-9f7c-eb8ee0103dd9",
   "metadata": {},
   "outputs": [
    {
     "data": {
      "text/plain": [
       "array([[ 2.06206502, -3.07375123, -0.21679608, -1.44215022],\n",
       "       [ 0.48150252,  0.94028649,  0.27726013,  0.14806589]])"
      ]
     },
     "execution_count": 37,
     "metadata": {},
     "output_type": "execute_result"
    }
   ],
   "source": [
    "# Iniciar arreglo con valores aleatorios con forme a una distribucion normal.\n",
    "np.random.randn(2, 4)"
   ]
  },
  {
   "cell_type": "code",
   "execution_count": 39,
   "id": "b9b2f423-353b-43e0-8f3a-8ee4a87ca001",
   "metadata": {},
   "outputs": [
    {
     "data": {
      "image/png": "[encoded data removed]",
      "text/plain": [
       "<Figure size 640x480 with 1 Axes>"
      ]
     },
     "metadata": {},
     "output_type": "display_data"
    }
   ],
   "source": [
    "%matplotlib inline\n",
    "import matplotlib.pyplot as plt\n",
    "\n",
    "c = np.random.randn(10000)\n",
    "plt.hist(c, bins=200)\n",
    "plt.show()"
   ]
  },
  {
   "cell_type": "code",
   "execution_count": 49,
   "id": "3b2218c4-1eae-4e77-80f6-592aacfeceb4",
   "metadata": {},
   "outputs": [
    {
     "data": {
      "text/plain": [
       "array([[ 0.,  2.,  4.,  6.,  8.],\n",
       "       [ 1.,  3.,  5.,  7.,  9.],\n",
       "       [ 2.,  4.,  6.,  8., 10.]])"
      ]
     },
     "execution_count": 49,
     "metadata": {},
     "output_type": "execute_result"
    }
   ],
   "source": [
    "# Inicializar un array, utilizando una funcion personalizada\n",
    "# Funciones llevan 2 puntos al final.\n",
    "def func(x, y):\n",
    "    return x + 2 * y\n",
    "\n",
    "np.fromfunction(func, (3, 5))"
   ]
  },
  {
   "cell_type": "markdown",
   "id": "0301f058-78c8-4568-8d5d-433d0db63bdb",
   "metadata": {},
   "source": [
    "## Acceso a los elementos de un array\n",
    "## Array Unidimencional"
   ]
  },
  {
   "cell_type": "code",
   "execution_count": 47,
   "id": "aa0e4297-ed1e-406e-aa49-fff373f0c6d8",
   "metadata": {},
   "outputs": [
    {
     "name": "stdout",
     "output_type": "stream",
     "text": [
      "Shape: (6,)\n",
      "Array_uni [ 1  3  5  7  9 11]\n"
     ]
    }
   ],
   "source": [
    "# Acceder a los elemntos del array.\n",
    "array_uni = np.array([1, 3, 5, 7, 9, 11])\n",
    "print(\"Shape:\", array_uni.shape)\n",
    "print(\"Array_uni\", array_uni)"
   ]
  },
  {
   "cell_type": "code",
   "execution_count": 52,
   "id": "5b3cf333-bf1e-4965-90d0-57794a29ffae",
   "metadata": {},
   "outputs": [
    {
     "data": {
      "text/plain": [
       "9"
      ]
     },
     "execution_count": 52,
     "metadata": {},
     "output_type": "execute_result"
    }
   ],
   "source": [
    "# Accediendo al quinto elemneto del array.\n",
    "array_uni[4]"
   ]
  },
  {
   "cell_type": "code",
   "execution_count": 54,
   "id": "6123dad0-cf3b-4928-8dd9-fe04a100ac7d",
   "metadata": {},
   "outputs": [
    {
     "data": {
      "text/plain": [
       "array([5, 7])"
      ]
     },
     "execution_count": 54,
     "metadata": {},
     "output_type": "execute_result"
    }
   ],
   "source": [
    "# Acceder al tercer y cuarto elemento del array\n",
    "array_uni[2:4]"
   ]
  },
  {
   "cell_type": "markdown",
   "id": "98513b45-3b5f-45ae-b59f-0fb9504d0fb2",
   "metadata": {},
   "source": [
    "### Array MUltidimencional."
   ]
  },
  {
   "cell_type": "code",
   "execution_count": 57,
   "id": "9c79e2b5-2ec8-4b02-a57c-f303ace38169",
   "metadata": {},
   "outputs": [
    {
     "name": "stdout",
     "output_type": "stream",
     "text": [
      "Shape: (2, 4)\n",
      "Array_multi:\n",
      " [[1 2 3 4]\n",
      " [5 6 7 8]]\n"
     ]
    }
   ],
   "source": [
    "# Crear un array multidimencional.\n",
    "array_multi = np.array([[1, 2, 3, 4], [5, 6, 7, 8]])\n",
    "print(\"Shape:\", array_multi.shape)\n",
    "print(\"Array_multi:\\n\", array_multi)"
   ]
  },
  {
   "cell_type": "code",
   "execution_count": 59,
   "id": "cc12994f-d292-49db-a8fd-0dfb02cdef4a",
   "metadata": {},
   "outputs": [
    {
     "data": {
      "text/plain": [
       "4"
      ]
     },
     "execution_count": 59,
     "metadata": {},
     "output_type": "execute_result"
    }
   ],
   "source": [
    "# Acceder al cuarto elemento del array\n",
    "array_multi[0,3]"
   ]
  },
  {
   "cell_type": "code",
   "execution_count": 61,
   "id": "8e1dae88-d297-465d-9d2d-aadf1e560dd0",
   "metadata": {},
   "outputs": [
    {
     "data": {
      "text/plain": [
       "array([5, 6, 7, 8])"
      ]
     },
     "execution_count": 61,
     "metadata": {},
     "output_type": "execute_result"
    }
   ],
   "source": [
    "#Acceder a la segunda fila del array\n",
    "array_multi[1, :]"
   ]
  },
  {
   "cell_type": "code",
   "execution_count": 63,
   "id": "d517a96f-a1d6-4556-b985-9a18cac3d046",
   "metadata": {},
   "outputs": [
    {
     "data": {
      "text/plain": [
       "array([3, 7])"
      ]
     },
     "execution_count": 63,
     "metadata": {},
     "output_type": "execute_result"
    }
   ],
   "source": [
    "# Aaccediendo al prier elemento de las dos primeras filas del array\n",
    "array_multi[0:2, 2]"
   ]
  },
  {
   "cell_type": "markdown",
   "id": "05b7eb70-cc43-4e15-9b9c-1dea900c98b0",
   "metadata": {},
   "source": [
    "## Modificacion de un array\n"
   ]
  },
  {
   "cell_type": "code",
   "execution_count": 68,
   "id": "d7f6d1ad-8b48-41c2-9920-1e304368915f",
   "metadata": {},
   "outputs": [
    {
     "name": "stdout",
     "output_type": "stream",
     "text": [
      "Shape: (28,)\n",
      "Array:\n",
      " [ 0  1  2  3  4  5  6  7  8  9 10 11 12 13 14 15 16 17 18 19 20 21 22 23\n",
      " 24 25 26 27]\n"
     ]
    }
   ],
   "source": [
    "# Crear un arrreglo unidimencional e inicializarlo con un rango \n",
    "# de elementos  del 0-27\n",
    "array1 = np.arange(28)\n",
    "print(\"Shape:\", array1.shape)\n",
    "print(\"Array:\\n\", array1)"
   ]
  },
  {
   "cell_type": "code",
   "execution_count": 70,
   "id": "dddb1897-21cc-4ebc-bbe2-13c2c5bbf0d6",
   "metadata": {},
   "outputs": [
    {
     "name": "stdout",
     "output_type": "stream",
     "text": [
      "Shape: (7, 4)\n",
      "Array:\n",
      " [[ 0  1  2  3]\n",
      " [ 4  5  6  7]\n",
      " [ 8  9 10 11]\n",
      " [12 13 14 15]\n",
      " [16 17 18 19]\n",
      " [20 21 22 23]\n",
      " [24 25 26 27]]\n"
     ]
    }
   ],
   "source": [
    "# Cambiar las dimenciones del array y sus longitudes.\n",
    "array1.shape = (7, 4)\n",
    "print(\"Shape:\", array1.shape)\n",
    "print(\"Array:\\n\", array1)\n"
   ]
  },
  {
   "cell_type": "code",
   "execution_count": 72,
   "id": "c33ff522-5cd4-4ade-935c-8a208c145bcc",
   "metadata": {},
   "outputs": [
    {
     "name": "stdout",
     "output_type": "stream",
     "text": [
      "Shape: (4, 7)\n",
      "Array:\n",
      " [[ 0  1  2  3  4  5  6]\n",
      " [ 7  8  9 10 11 12 13]\n",
      " [14 15 16 17 18 19 20]\n",
      " [21 22 23 24 25 26 27]]\n"
     ]
    }
   ],
   "source": [
    "# El ejemplo anterior devuelve un nuevo array que apunta alos mismos datos.\n",
    "# NOTA: MODIFICACIONES EN EL ARREGLO MODIFICARAN EL OTRO ARRAY\n",
    "array2 = array1.reshape(4, 7)\n",
    "print(\"Shape:\", array2.shape)\n",
    "print(\"Array:\\n\", array2)"
   ]
  },
  {
   "cell_type": "code",
   "execution_count": 82,
   "id": "a84affd4-d02c-420e-a2cd-0c7ffa5c1eae",
   "metadata": {
    "scrolled": true
   },
   "outputs": [
    {
     "name": "stdout",
     "output_type": "stream",
     "text": [
      "Shape: (4, 7)\n",
      "Array2:\n",
      " [[ 0  1  2  3  4  5  6]\n",
      " [ 7  8  9 30 11 12 13]\n",
      " [14 15 16 17 18 19 20]\n",
      " [21 22 23 24 25 26 27]]\n"
     ]
    }
   ],
   "source": [
    "# Modificacion del nuevo array devuelto\n",
    "array2[1, 3] = 30\n",
    "print(\"Shape:\", array2.shape)\n",
    "print(\"Array2:\\n\", array2)"
   ]
  },
  {
   "cell_type": "code",
   "execution_count": 84,
   "id": "de401016-f35e-4dfa-9d11-077c303ee637",
   "metadata": {
    "scrolled": true
   },
   "outputs": [
    {
     "name": "stdout",
     "output_type": "stream",
     "text": [
      "Array1:  [ 0  1  2  3  4  5  6  7  8  9 30 11 12 13 14 15 16 17 18 19 20 21 22 23\n",
      " 24 25 26 27]\n"
     ]
    }
   ],
   "source": [
    "#Devolver el array a su estado original\n",
    "print(\"Array1: \", array1.ravel())"
   ]
  },
  {
   "cell_type": "markdown",
   "id": "1a4ca932-ec16-4a9f-8140-e185b95c937c",
   "metadata": {},
   "source": [
    "## Operaciones Aritmeticas con Arrays"
   ]
  },
  {
   "cell_type": "code",
   "execution_count": 88,
   "id": "2116159d-6567-4051-ae49-9253edd83168",
   "metadata": {},
   "outputs": [
    {
     "name": "stdout",
     "output_type": "stream",
     "text": [
      "Array1: [ 2  4  6  8 10 12 14 16]\n",
      "Array2: [0 1 2 3 4 5 6 7]\n"
     ]
    }
   ],
   "source": [
    "array1 = np.arange(2, 18, 2)\n",
    "array2 = np.arange(8)\n",
    "print(\"Array1:\", array1)\n",
    "print(\"Array2:\", array2)"
   ]
  },
  {
   "cell_type": "code",
   "execution_count": 90,
   "id": "f7a8b33a-28cd-43e2-b6e7-38ba04b9aaf8",
   "metadata": {},
   "outputs": [
    {
     "name": "stdout",
     "output_type": "stream",
     "text": [
      "[ 2  5  8 11 14 17 20 23]\n"
     ]
    }
   ],
   "source": [
    "# Suma\n",
    "print(array1 + array2)"
   ]
  },
  {
   "cell_type": "code",
   "execution_count": 92,
   "id": "83073b34-d7ef-4f94-b93e-d7c2b962b705",
   "metadata": {},
   "outputs": [
    {
     "name": "stdout",
     "output_type": "stream",
     "text": [
      "[2 3 4 5 6 7 8 9]\n"
     ]
    }
   ],
   "source": [
    "# Resta\n",
    "print(array1 - array2)"
   ]
  },
  {
   "cell_type": "code",
   "execution_count": 94,
   "id": "e3f101d9-de57-43f5-a9a4-006642f67526",
   "metadata": {},
   "outputs": [
    {
     "name": "stdout",
     "output_type": "stream",
     "text": [
      "[  0   4  12  24  40  60  84 112]\n"
     ]
    }
   ],
   "source": [
    "# Multiplicacion \n",
    "# NOTA: No es una multiplicacion de matrices\n",
    "print(array1 * array2)"
   ]
  },
  {
   "cell_type": "markdown",
   "id": "f39eac51-9d6c-44fc-a837-7a70483271ac",
   "metadata": {},
   "source": [
    "## Broadcasting\n",
    "Si se aplican operaciones aritmeticas sobre arrays que no tienen la misma forma (shape), Numpy aplica una propiedad que se llama Broadcsating."
   ]
  },
  {
   "cell_type": "code",
   "execution_count": 97,
   "id": "e309fa5b-a56d-461a-95c0-5fce3175d50b",
   "metadata": {},
   "outputs": [
    {
     "name": "stdout",
     "output_type": "stream",
     "text": [
      "Shape: (5,)\n",
      "Array2:\n",
      " [0 1 2 3 4]\n",
      "\n",
      "\n",
      "Shape: (1,)\n",
      "Array2:\n",
      " [3]\n"
     ]
    }
   ],
   "source": [
    "array1 = np.arange(5)\n",
    "array2 = np.array([3])\n",
    "print(\"Shape:\", array1.shape)\n",
    "print(\"Array2:\\n\", array1)\n",
    "print(\"\\n\")\n",
    "print(\"Shape:\", array2.shape)\n",
    "print(\"Array2:\\n\", array2)\n"
   ]
  },
  {
   "cell_type": "code",
   "execution_count": 99,
   "id": "5642eaa8-27cd-42d4-894b-ad335d0923d0",
   "metadata": {},
   "outputs": [
    {
     "data": {
      "text/plain": [
       "array([3, 4, 5, 6, 7])"
      ]
     },
     "execution_count": 99,
     "metadata": {},
     "output_type": "execute_result"
    }
   ],
   "source": [
    "# Suma de ambos arrays\n",
    "array1 + array2"
   ]
  },
  {
   "cell_type": "code",
   "execution_count": 101,
   "id": "5dd58ab0-2110-4e5a-9c0f-47969aadbacb",
   "metadata": {},
   "outputs": [
    {
     "data": {
      "text/plain": [
       "array([ 0,  3,  6,  9, 12])"
      ]
     },
     "execution_count": 101,
     "metadata": {},
     "output_type": "execute_result"
    }
   ],
   "source": [
    "# Multiplicacion \n",
    "array1 * array2"
   ]
  },
  {
   "cell_type": "markdown",
   "id": "2426e2dd-f513-4238-bd04-63d808d348cd",
   "metadata": {},
   "source": [
    "## Funciones estadisticas sobre arrays"
   ]
  },
  {
   "cell_type": "code",
   "execution_count": 106,
   "id": "f5432ed7-5bb1-4580-9b31-00cf4bf931f6",
   "metadata": {},
   "outputs": [
    {
     "name": "stdout",
     "output_type": "stream",
     "text": [
      "Array1:\n",
      " [ 1  3  5  7  9 11 13 15 17 19]\n"
     ]
    }
   ],
   "source": [
    "# Creacion de un array unidimencional\n",
    "array1 = np.arange(1, 20, 2)\n",
    "print(\"Array1:\\n\", array1)"
   ]
  },
  {
   "cell_type": "code",
   "execution_count": 108,
   "id": "147c7c2d-e05b-4dd2-bbdc-8d6b93fe092f",
   "metadata": {},
   "outputs": [
    {
     "data": {
      "text/plain": [
       "10.0"
      ]
     },
     "execution_count": 108,
     "metadata": {},
     "output_type": "execute_result"
    }
   ],
   "source": [
    "# Media de los elementos del array\n",
    "array1.mean()"
   ]
  },
  {
   "cell_type": "code",
   "execution_count": 110,
   "id": "c40888c9-6ed4-4269-970c-e2be6af81cbb",
   "metadata": {},
   "outputs": [
    {
     "data": {
      "text/plain": [
       "100"
      ]
     },
     "execution_count": 110,
     "metadata": {},
     "output_type": "execute_result"
    }
   ],
   "source": [
    "# Suma de los elementos del array\n",
    "array1.sum()"
   ]
  },
  {
   "cell_type": "markdown",
   "id": "0a7f62fe-d010-4ea4-bb9f-594e5b9805ab",
   "metadata": {},
   "source": [
    "# Funciones universales proporcionadas por numpy: **ufunc**."
   ]
  },
  {
   "cell_type": "code",
   "execution_count": 113,
   "id": "4de5d518-b0e8-4226-986c-3ee0a9a77bbd",
   "metadata": {},
   "outputs": [
    {
     "data": {
      "text/plain": [
       "array([  1,   9,  25,  49,  81, 121, 169, 225, 289, 361])"
      ]
     },
     "execution_count": 113,
     "metadata": {},
     "output_type": "execute_result"
    }
   ],
   "source": [
    "# Cuadrado de los elementos\n",
    "np.square(array1)"
   ]
  },
  {
   "cell_type": "code",
   "execution_count": 115,
   "id": "734ef885-7d4a-4183-ad41-94becd7a2811",
   "metadata": {},
   "outputs": [
    {
     "data": {
      "text/plain": [
       "array([1.        , 1.73205081, 2.23606798, 2.64575131, 3.        ,\n",
       "       3.31662479, 3.60555128, 3.87298335, 4.12310563, 4.35889894])"
      ]
     },
     "execution_count": 115,
     "metadata": {},
     "output_type": "execute_result"
    }
   ],
   "source": [
    "# Raiz cuadrada de los elementos del array.\n",
    "np.sqrt(array1)"
   ]
  },
  {
   "cell_type": "code",
   "execution_count": 117,
   "id": "4956418a-76f4-4acc-8686-e23a4886eea9",
   "metadata": {},
   "outputs": [
    {
     "data": {
      "text/plain": [
       "array([2.71828183e+00, 2.00855369e+01, 1.48413159e+02, 1.09663316e+03,\n",
       "       8.10308393e+03, 5.98741417e+04, 4.42413392e+05, 3.26901737e+06,\n",
       "       2.41549528e+07, 1.78482301e+08])"
      ]
     },
     "execution_count": 117,
     "metadata": {},
     "output_type": "execute_result"
    }
   ],
   "source": [
    "# Exponencial de los elementos del array\n",
    "np.exp(array1)"
   ]
  },
  {
   "cell_type": "code",
   "execution_count": 119,
   "id": "1a9988aa-5b06-4967-a952-0d6be91461b3",
   "metadata": {},
   "outputs": [
    {
     "data": {
      "text/plain": [
       "array([0.        , 1.09861229, 1.60943791, 1.94591015, 2.19722458,\n",
       "       2.39789527, 2.56494936, 2.7080502 , 2.83321334, 2.94443898])"
      ]
     },
     "execution_count": 119,
     "metadata": {},
     "output_type": "execute_result"
    }
   ],
   "source": [
    "# Logaritmo natural de los elemntos del array\n",
    "np.log(array1)"
   ]
  },
  {
   "cell_type": "code",
   "execution_count": null,
   "id": "39f573a7-efae-4fa5-b251-896531eee86e",
   "metadata": {},
   "outputs": [],
   "source": []
  }
 ],
 "metadata": {
  "kernelspec": {
   "display_name": "Python 3 (ipykernel)",
   "language": "python",
   "name": "python3"
  },
  "language_info": {
   "codemirror_mode": {
    "name": "ipython",
    "version": 3
   },
   "file_extension": ".py",
   "mimetype": "text/x-python",
   "name": "python",
   "nbconvert_exporter": "python",
   "pygments_lexer": "ipython3",
   "version": "3.12.4"
  }
 },
 "nbformat": 4,
 "nbformat_minor": 5
}
